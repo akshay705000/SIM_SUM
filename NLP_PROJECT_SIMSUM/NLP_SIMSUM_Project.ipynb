{
  "cells": [
    {
      "cell_type": "code",
      "execution_count": null,
      "metadata": {
        "colab": {
          "base_uri": "https://localhost:8080/"
        },
        "id": "OmzW4aijx2Rq",
        "outputId": "9f6c5e7b-18b0-4ad6-98f1-cc6e1f1a11e7"
      },
      "outputs": [
        {
          "name": "stdout",
          "output_type": "stream",
          "text": [
            "Mounted at /content/drive\n"
          ]
        }
      ],
      "source": [
        "from google.colab import drive\n",
        "drive.mount('/content/drive')"
      ]
    },
    {
      "cell_type": "code",
      "execution_count": null,
      "metadata": {
        "id": "fSSDl06c4_t7"
      },
      "outputs": [],
      "source": [
        "!pip install pytorch-lightning"
      ]
    },
    {
      "cell_type": "code",
      "execution_count": null,
      "metadata": {
        "id": "TJlnwJ7gP6AP"
      },
      "outputs": [],
      "source": [
        "!pip install optuna"
      ]
    },
    {
      "cell_type": "code",
      "execution_count": null,
      "metadata": {
        "id": "SRKyRQMWQoEC"
      },
      "outputs": [],
      "source": [
        "!pip install optuna-integration"
      ]
    },
    {
      "cell_type": "code",
      "execution_count": null,
      "metadata": {
        "id": "0NQTK4ktQ0Tm"
      },
      "outputs": [],
      "source": [
        "!pip install python-Levenshtein\n"
      ]
    },
    {
      "cell_type": "code",
      "execution_count": null,
      "metadata": {
        "id": "LCR4qnbSRQAX"
      },
      "outputs": [],
      "source": [
        "!pip install sacremoses\n"
      ]
    },
    {
      "cell_type": "code",
      "execution_count": null,
      "metadata": {
        "id": "766xAasmRgvN"
      },
      "outputs": [],
      "source": [
        "!pip install summarizer"
      ]
    },
    {
      "cell_type": "code",
      "execution_count": null,
      "metadata": {
        "id": "G0PZmh-QRuN6"
      },
      "outputs": [],
      "source": [
        "!pip install sacrebleu"
      ]
    },
    {
      "cell_type": "code",
      "execution_count": null,
      "metadata": {
        "id": "B27Dgk5I5A8u"
      },
      "outputs": [],
      "source": [
        "# Provide the path of main1 file here\n",
        "!python /content/drive/MyDrive/easy-summary-main/SimSum/main1.py"
      ]
    },
    {
      "cell_type": "code",
      "execution_count": null,
      "metadata": {
        "id": "YDlZhDX6bdf2"
      },
      "outputs": [],
      "source": [
        "# Provide the path of evaluate file here\n",
        "!python /content/drive/MyDrive/easy-summary-main/SimSum/evaluate.py"
      ]
    }
  ],
  "metadata": {
    "colab": {
      "provenance": []
    },
    "kernelspec": {
      "display_name": "Python 3",
      "name": "python3"
    },
    "language_info": {
      "name": "python"
    }
  },
  "nbformat": 4,
  "nbformat_minor": 0
}
